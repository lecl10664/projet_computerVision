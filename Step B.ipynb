{
 "cells": [
  {
   "cell_type": "markdown",
   "id": "c630de0a",
   "metadata": {},
   "source": [
    "# STEP B"
   ]
  },
  {
   "cell_type": "markdown",
   "id": "7ac85fbc",
   "metadata": {},
   "source": [
    "### exemple"
   ]
  },
  {
   "cell_type": "code",
   "execution_count": 3,
   "id": "d3d24e02",
   "metadata": {},
   "outputs": [
    {
     "name": "stdout",
     "output_type": "stream",
     "text": [
      "ok\n"
     ]
    }
   ],
   "source": [
    "print('ok')"
   ]
  },
  {
   "cell_type": "code",
   "execution_count": null,
   "id": "4dabf0e5",
   "metadata": {},
   "outputs": [],
   "source": []
  }
 ],
 "metadata": {
  "kernelspec": {
   "display_name": "Python 3 (ipykernel)",
   "language": "python",
   "name": "python3"
  },
  "language_info": {
   "codemirror_mode": {
    "name": "ipython",
    "version": 3
   },
   "file_extension": ".py",
   "mimetype": "text/x-python",
   "name": "python",
   "nbconvert_exporter": "python",
   "pygments_lexer": "ipython3",
   "version": "3.8.12"
  }
 },
 "nbformat": 4,
 "nbformat_minor": 5
}
